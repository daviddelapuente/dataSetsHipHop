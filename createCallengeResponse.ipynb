{
 "cells": [
  {
   "cell_type": "code",
   "execution_count": 1,
   "metadata": {},
   "outputs": [],
   "source": [
    "import pandas as pd"
   ]
  },
  {
   "cell_type": "code",
   "execution_count": 2,
   "metadata": {},
   "outputs": [],
   "source": [
    "songs = pd.read_csv('hipHopLyrics.csv')"
   ]
  },
  {
   "cell_type": "markdown",
   "metadata": {},
   "source": [
    "songs analisis:"
   ]
  },
  {
   "cell_type": "code",
   "execution_count": 3,
   "metadata": {},
   "outputs": [
    {
     "data": {
      "text/html": [
       "<div>\n",
       "<style scoped>\n",
       "    .dataframe tbody tr th:only-of-type {\n",
       "        vertical-align: middle;\n",
       "    }\n",
       "\n",
       "    .dataframe tbody tr th {\n",
       "        vertical-align: top;\n",
       "    }\n",
       "\n",
       "    .dataframe thead th {\n",
       "        text-align: right;\n",
       "    }\n",
       "</style>\n",
       "<table border=\"1\" class=\"dataframe\">\n",
       "  <thead>\n",
       "    <tr style=\"text-align: right;\">\n",
       "      <th></th>\n",
       "      <th>ALink</th>\n",
       "      <th>SName</th>\n",
       "      <th>SLink</th>\n",
       "      <th>Lyric</th>\n",
       "      <th>Idiom</th>\n",
       "    </tr>\n",
       "  </thead>\n",
       "  <tbody>\n",
       "    <tr>\n",
       "      <th>0</th>\n",
       "      <td>/beastie-boys/</td>\n",
       "      <td>Sabotage</td>\n",
       "      <td>/beastie-boys/sabotage.html</td>\n",
       "      <td>I can't stand it, I know you planned it. I'm a...</td>\n",
       "      <td>ENGLISH</td>\n",
       "    </tr>\n",
       "    <tr>\n",
       "      <th>1</th>\n",
       "      <td>/beastie-boys/</td>\n",
       "      <td>Intergalactic</td>\n",
       "      <td>/beastie-boys/intergalactic.html</td>\n",
       "      <td>Intergalactic Planetary Planetary Intergalacti...</td>\n",
       "      <td>ENGLISH</td>\n",
       "    </tr>\n",
       "    <tr>\n",
       "      <th>2</th>\n",
       "      <td>/beastie-boys/</td>\n",
       "      <td>(You Gotta) Fight For Your Right (To Party!)</td>\n",
       "      <td>/beastie-boys/you-gotta-fight-for-your-right-t...</td>\n",
       "      <td>Kick it!. [Verse 1]. You wake up late for scho...</td>\n",
       "      <td>ENGLISH</td>\n",
       "    </tr>\n",
       "    <tr>\n",
       "      <th>3</th>\n",
       "      <td>/beastie-boys/</td>\n",
       "      <td>Sure Shot</td>\n",
       "      <td>/beastie-boys/sure-shot.html</td>\n",
       "      <td>You can't, you won't and you don't stop. Mike ...</td>\n",
       "      <td>ENGLISH</td>\n",
       "    </tr>\n",
       "    <tr>\n",
       "      <th>4</th>\n",
       "      <td>/beastie-boys/</td>\n",
       "      <td>No Sleep 'Till Brooklyn</td>\n",
       "      <td>/beastie-boys/no-sleep-till-brooklyn.html</td>\n",
       "      <td>(chorus) No sleep 'til - Brooklyn. . Foot on t...</td>\n",
       "      <td>ENGLISH</td>\n",
       "    </tr>\n",
       "  </tbody>\n",
       "</table>\n",
       "</div>"
      ],
      "text/plain": [
       "            ALink                                         SName  \\\n",
       "0  /beastie-boys/                                      Sabotage   \n",
       "1  /beastie-boys/                                 Intergalactic   \n",
       "2  /beastie-boys/  (You Gotta) Fight For Your Right (To Party!)   \n",
       "3  /beastie-boys/                                     Sure Shot   \n",
       "4  /beastie-boys/                       No Sleep 'Till Brooklyn   \n",
       "\n",
       "                                               SLink  \\\n",
       "0                        /beastie-boys/sabotage.html   \n",
       "1                   /beastie-boys/intergalactic.html   \n",
       "2  /beastie-boys/you-gotta-fight-for-your-right-t...   \n",
       "3                       /beastie-boys/sure-shot.html   \n",
       "4          /beastie-boys/no-sleep-till-brooklyn.html   \n",
       "\n",
       "                                               Lyric    Idiom  \n",
       "0  I can't stand it, I know you planned it. I'm a...  ENGLISH  \n",
       "1  Intergalactic Planetary Planetary Intergalacti...  ENGLISH  \n",
       "2  Kick it!. [Verse 1]. You wake up late for scho...  ENGLISH  \n",
       "3  You can't, you won't and you don't stop. Mike ...  ENGLISH  \n",
       "4  (chorus) No sleep 'til - Brooklyn. . Foot on t...  ENGLISH  "
      ]
     },
     "execution_count": 3,
     "metadata": {},
     "output_type": "execute_result"
    }
   ],
   "source": [
    "songs.head()"
   ]
  },
  {
   "cell_type": "code",
   "execution_count": 4,
   "metadata": {},
   "outputs": [
    {
     "data": {
      "text/plain": [
       "23108"
      ]
     },
     "execution_count": 4,
     "metadata": {},
     "output_type": "execute_result"
    }
   ],
   "source": [
    "len(songs)"
   ]
  },
  {
   "cell_type": "markdown",
   "metadata": {},
   "source": [
    "lyric example"
   ]
  },
  {
   "cell_type": "code",
   "execution_count": 5,
   "metadata": {},
   "outputs": [
    {
     "data": {
      "text/plain": [
       "\"You can't, you won't and you don't stop. Mike d come on and rock the sure shot. I've got the brand new doo-doo guaranteed. Like yoo hoo. I'm on like dr john, yea mr zu zu. I'm a newlywed, not a divorcee. And everything I do is funky like lee dorsey. Well, it's the taking fo pelham, one, two, three. If you want a doodoo rhyme then come see me. I've got the savoir faire with the unique rhyme. And. I keep it on and on, it's never quitting time and. Strictly hand held is the style I go. Never rock the mic with the panty hose. I strap on my ear goggles and I'm ready to go. 'couse at the boards is the man they call the. Mario. Pull up at the function and you know I kojak. To all the party people that are on my bozak. I've got more action than my man john woo. And I've got mad hits like I was rod crew. You can't, you won't and you don't stop. Ad rock come and rock the sure shot. Hurricane will cross fade on your ass and. Bust your ear drums. Listen everybody 'couse I'm shifting gears I'm. Fresh like dougie when I set my specs and. On the microphone I come correct. Timing like a clock when I'rock the hip hop. Top notch is my stock on the soap box. I've got more rhymes than I'v got grey hairs. And that's alot because I've got my share. I've got a hole in my head and there's no one. To fix it. Got to straighten my thoughts, I'm thinking too. Much sick shit. Everyone just takes and takes, takes, takes,. Takes. I've got to step back, I've got to contemplate. I'm like lee perry, I'm very. On rock the microphone and then I'm gone. I'm like vaughn bode, I'm a cheech wizard. Never quitting, so won't you listen. Oh yes indeed, it's fun time. 'cause you can't, you won't and you don't stop. Mca come and rock the sure shot. I want to say a little something that's long. Overdue. The disrespect to women has got to be through. To all the mothers and sisters a and ahe. Wives and friends. I want to offer my love and respect to the. End. Well you say I'm twenty something and should. Be slacking. But I'm working harder than ever and you could. Call it macking. So I'm supposed to sit upon my couch watching my. T.v.. I'm still iistening to wax, I'm not using the cd. I'm that kid in the corner. All fucked up and I wanna so I'm gonna. Take a piece of the pie, why not, I'm not quitting. Think I'm gonna change up my style just to fit in. I keep my underwear up with a piece of elastic. I use a bullshit mic that's made out of plastic. To send my rhymes out to all nations. Like ma bell, I've got the ill communications. . (chorus)\""
      ]
     },
     "execution_count": 5,
     "metadata": {},
     "output_type": "execute_result"
    }
   ],
   "source": [
    "songs[\"Lyric\"].iloc[3]"
   ]
  },
  {
   "cell_type": "markdown",
   "metadata": {},
   "source": [
    "### now we define the rhyme scheme \n",
    "(we will use the optimized version from https://github.com/daviddelapuente/rhymeScheme)"
   ]
  },
  {
   "cell_type": "code",
   "execution_count": 6,
   "metadata": {},
   "outputs": [
    {
     "name": "stderr",
     "output_type": "stream",
     "text": [
      "[nltk_data] Downloading package cmudict to /home/dania/nltk_data...\n",
      "[nltk_data]   Package cmudict is already up-to-date!\n"
     ]
    },
    {
     "data": {
      "text/plain": [
       "True"
      ]
     },
     "execution_count": 6,
     "metadata": {},
     "output_type": "execute_result"
    }
   ],
   "source": [
    "import nltk\n",
    "nltk.download('cmudict')"
   ]
  },
  {
   "cell_type": "code",
   "execution_count": 7,
   "metadata": {},
   "outputs": [],
   "source": [
    "#this function takes 2 strings, and return True if one of them is sufix of the other\n",
    "def isSufix(s1,s2):\n",
    "    if(len(s1)>=len(s2)):\n",
    "        for i in range(len(s2)):\n",
    "            if (s2[len(s2)-1-i]!=s1[len(s1)-1-i]):\n",
    "                return False\n",
    "    else:\n",
    "        for i in range(len(s1)):\n",
    "            if(s1[len(s1)-1-i]!=s2[len(s2)-1-i]):\n",
    "                return False\n",
    "    return True\n",
    "\n",
    "\n",
    "\n",
    "phone_dictionaryOPT = nltk.corpus.cmudict.dict()\n",
    "def possible_phones_OPT(word):\n",
    "    if word not in phone_dictionaryOPT:\n",
    "        return []\n",
    "    return phone_dictionaryOPT[word]\n",
    "\n",
    "\n",
    "\n",
    "\n",
    "\n",
    "def first_score(phones1,phones2):\n",
    "    if(len(phones1)==0 or len(phones2)==0):\n",
    "        return 0\n",
    "    phones1=phones1[::-1]\n",
    "    phones2=phones2[::-1]\n",
    "    if len(phones1)>len(phones2):\n",
    "        phones1,phones2=phones2,phones1\n",
    "    hit=0\n",
    "    total=0\n",
    "    for i in range(len(phones1)):\n",
    "        if phones1[i]==phones2[i]:\n",
    "            if hasDigit(phones1[i]):\n",
    "                hit+=2\n",
    "                total+=2\n",
    "            else:\n",
    "                hit+=1\n",
    "                total+=1\n",
    "        else:\n",
    "            total+=1\n",
    "    return hit/total\n",
    "\n",
    "\n",
    "\n",
    "\n",
    "def hasDigit(s):\n",
    "    for char in s:\n",
    "        if char.isdigit():\n",
    "            return True\n",
    "    return False\n",
    "\n",
    "\n",
    "\n",
    "def rhyme_scoreOPT(first_word, second_word):\n",
    "    return getScore(first_word,second_word,possible_phones_OPT)\n",
    "\n",
    "\n",
    "\n",
    "#this function was inspired by word_similarity from https://github.com/kevin-brown/rhyme-detect\n",
    "def getScore(first_word, second_word,dicrtionaryFunction):\n",
    "    #first we filter some border cases like empty strings\n",
    "    if(first_word==None or second_word==None):\n",
    "        return 0\n",
    "    if(len(first_word)==0 or len(second_word)==0):\n",
    "        return 0\n",
    "    if (isSufix(first_word,second_word)):\n",
    "        return 0\n",
    "    \n",
    "\n",
    "    #this build the phonemas\n",
    "    first_phones = dicrtionaryFunction(first_word)\n",
    "    second_phones = dicrtionaryFunction(second_word)\n",
    "    if not first_phones or not second_phones:\n",
    "        return 0\n",
    "\n",
    "    #we invert the array\n",
    "    first_range = first_phones[0][::-1]\n",
    "    second_range = second_phones[0][::-1]\n",
    "\n",
    "    #we put the smaller array in first_range\n",
    "    if len(first_range) > len(second_range):\n",
    "        first_range, second_range = second_range, first_range\n",
    "\n",
    "    hits = 0\n",
    "    total = len(first_range)\n",
    "\n",
    "    c1=[]\n",
    "    b=False\n",
    "    for i in range(len(first_range)):\n",
    "        phone=first_range[i]\n",
    "        if(hasDigit(phone)):\n",
    "            b=True\n",
    "        c1.append(phone)\n",
    "        if(not phone[-1].isdigit() and b):\n",
    "            break\n",
    "\n",
    "    c2=[]\n",
    "    b=False\n",
    "    for i in range(len(second_range)):\n",
    "        phone=second_range[i]\n",
    "        if(hasDigit(phone)):\n",
    "            b=True\n",
    "        c2.append(phone)\n",
    "        if(not phone[-1].isdigit() and b):\n",
    "            break\n",
    "    \n",
    "    score1=first_score(c1,c2)\n",
    "    return score1\n"
   ]
  },
  {
   "cell_type": "markdown",
   "metadata": {},
   "source": [
    "examples of the scheme"
   ]
  },
  {
   "cell_type": "code",
   "execution_count": 11,
   "metadata": {},
   "outputs": [
    {
     "name": "stdout",
     "output_type": "stream",
     "text": [
      "1.0\n",
      "1.0\n",
      "0.8\n",
      "0.8\n",
      "0.3333333333333333\n",
      "0.5\n",
      "0.0\n"
     ]
    }
   ],
   "source": [
    "print(rhyme_scoreOPT(\"commit\",\"submit\"))\n",
    "print(rhyme_scoreOPT(\"suffix\",\"prefix\"))\n",
    "print(rhyme_scoreOPT(\"suffix\",\"phoenix\"))\n",
    "print(rhyme_scoreOPT(\"suffix\",\"helix\"))\n",
    "print(rhyme_scoreOPT(\"octopus\",\"bus\"))\n",
    "print(rhyme_scoreOPT(\"car\",\"palm\"))\n",
    "print(rhyme_scoreOPT(\"car\",\"bit\"))"
   ]
  },
  {
   "cell_type": "markdown",
   "metadata": {},
   "source": [
    "now we define the functions that will create the challenge-response"
   ]
  },
  {
   "cell_type": "code",
   "execution_count": 33,
   "metadata": {},
   "outputs": [],
   "source": [
    "#this function take a song, and a treshold (an integer)\n",
    "#and what is does is to split the song (that actually is a string)\n",
    "#and create a list where each positiono of the list contains a line of the song.\n",
    "#the reason why it doesent use the .split(\".\") function. is because there are some lines that has\n",
    "#points in between. and that the reason why it use a treshold (is like if the substring between two \".\"\n",
    "# is less than the treashold it cant be consider a line)\n",
    "def makeLines(song,treshold):\n",
    "    lines=[]\n",
    "    i=0\n",
    "    for j in range(len(song)):\n",
    "        if song[j]==\".\":\n",
    "            if j-i<treshold:\n",
    "                if len(lines)>0:\n",
    "                    lines[len(lines)-1]+=song[i:j]\n",
    "                    i=j+1\n",
    "            else:\n",
    "                lines.append(song[i:j])\n",
    "                i=j+1\n",
    "    return lines\n",
    "\n",
    "def takeLastWord(line):\n",
    "    words=line.split(\" \")\n",
    "    return words[len(words)-1]\n",
    "\n",
    "def challengeResponseGeneratorFromSong(song,treshold=10):\n",
    "    L=[]\n",
    "    lines=makeLines(song,treshold)\n",
    "    for i in range(len(lines)-1):\n",
    "        word1=takeLastWord(lines[i])\n",
    "        word2=takeLastWord(lines[i+1])\n",
    "        score = rhyme_scoreOPT(word1,word2)\n",
    "        if score>0.34:\n",
    "            v=[]\n",
    "            v.append(lines[i])\n",
    "            v.append(lines[i+1])\n",
    "            L.append(v)\n",
    "    return L\n",
    "\n",
    "def challengeResponseGeneratorFromAllSongs(songs,treshold=10):\n",
    "    L=[]\n",
    "    for s in songs:\n",
    "        L+=challengeResponseGeneratorFromSong(s,treshold)\n",
    "    return L"
   ]
  },
  {
   "cell_type": "code",
   "execution_count": 34,
   "metadata": {},
   "outputs": [],
   "source": [
    "crList=challengeResponseGeneratorFromAllSongs(songs[\"Lyric\"],10)"
   ]
  },
  {
   "cell_type": "code",
   "execution_count": 35,
   "metadata": {},
   "outputs": [
    {
     "data": {
      "text/plain": [
       "184317"
      ]
     },
     "execution_count": 35,
     "metadata": {},
     "output_type": "execute_result"
    }
   ],
   "source": [
    "len(crList)"
   ]
  },
  {
   "cell_type": "code",
   "execution_count": 36,
   "metadata": {},
   "outputs": [],
   "source": [
    "crdataframe = pd.DataFrame(crList,columns=['challenge','response'])"
   ]
  },
  {
   "cell_type": "code",
   "execution_count": 37,
   "metadata": {},
   "outputs": [
    {
     "data": {
      "text/html": [
       "<div>\n",
       "<style scoped>\n",
       "    .dataframe tbody tr th:only-of-type {\n",
       "        vertical-align: middle;\n",
       "    }\n",
       "\n",
       "    .dataframe tbody tr th {\n",
       "        vertical-align: top;\n",
       "    }\n",
       "\n",
       "    .dataframe thead th {\n",
       "        text-align: right;\n",
       "    }\n",
       "</style>\n",
       "<table border=\"1\" class=\"dataframe\">\n",
       "  <thead>\n",
       "    <tr style=\"text-align: right;\">\n",
       "      <th></th>\n",
       "      <th>challenge</th>\n",
       "      <th>response</th>\n",
       "    </tr>\n",
       "  </thead>\n",
       "  <tbody>\n",
       "    <tr>\n",
       "      <th>0</th>\n",
       "      <td>So while you sit back and wonder why</td>\n",
       "      <td>I got this fucking thorn in my side</td>\n",
       "    </tr>\n",
       "    <tr>\n",
       "      <th>1</th>\n",
       "      <td>'Cause what you see you might not get</td>\n",
       "      <td>And we can bet so don't you get souped yet</td>\n",
       "    </tr>\n",
       "    <tr>\n",
       "      <th>2</th>\n",
       "      <td>I can't stand rockin' when I'm in this place</td>\n",
       "      <td>Because I feel disgraced because you're all i...</td>\n",
       "    </tr>\n",
       "    <tr>\n",
       "      <th>3</th>\n",
       "      <td>But make no mistakes and switch up my channel</td>\n",
       "      <td>I'm buddy rich when I fly off the handle</td>\n",
       "    </tr>\n",
       "    <tr>\n",
       "      <th>4</th>\n",
       "      <td>Don't you tell me to smile</td>\n",
       "      <td>You stick around I'll make it worth your while</td>\n",
       "    </tr>\n",
       "  </tbody>\n",
       "</table>\n",
       "</div>"
      ],
      "text/plain": [
       "                                        challenge  \\\n",
       "0            So while you sit back and wonder why   \n",
       "1           'Cause what you see you might not get   \n",
       "2    I can't stand rockin' when I'm in this place   \n",
       "3   But make no mistakes and switch up my channel   \n",
       "4                      Don't you tell me to smile   \n",
       "\n",
       "                                            response  \n",
       "0                I got this fucking thorn in my side  \n",
       "1         And we can bet so don't you get souped yet  \n",
       "2   Because I feel disgraced because you're all i...  \n",
       "3           I'm buddy rich when I fly off the handle  \n",
       "4     You stick around I'll make it worth your while  "
      ]
     },
     "execution_count": 37,
     "metadata": {},
     "output_type": "execute_result"
    }
   ],
   "source": [
    "crdataframe.head()"
   ]
  },
  {
   "cell_type": "code",
   "execution_count": 38,
   "metadata": {},
   "outputs": [],
   "source": [
    "crdataframe.to_csv(r'challengeResponse', index = False, header=True)"
   ]
  },
  {
   "cell_type": "code",
   "execution_count": null,
   "metadata": {},
   "outputs": [],
   "source": []
  }
 ],
 "metadata": {
  "kernelspec": {
   "display_name": "Python 3",
   "language": "python",
   "name": "python3"
  },
  "language_info": {
   "codemirror_mode": {
    "name": "ipython",
    "version": 3
   },
   "file_extension": ".py",
   "mimetype": "text/x-python",
   "name": "python",
   "nbconvert_exporter": "python",
   "pygments_lexer": "ipython3",
   "version": "3.6.9"
  }
 },
 "nbformat": 4,
 "nbformat_minor": 4
}
